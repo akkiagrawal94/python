{
 "cells": [
  {
   "cell_type": "code",
   "execution_count": 1,
   "metadata": {
    "collapsed": false
   },
   "outputs": [
    {
     "data": {
      "text/plain": [
       "2.0"
      ]
     },
     "execution_count": 1,
     "metadata": {},
     "output_type": "execute_result"
    }
   ],
   "source": [
    "# We can import any modules using the import statement\n",
    "#import module_name\n",
    "import math\n",
    "math.sqrt(4)"
   ]
  },
  {
   "cell_type": "code",
   "execution_count": 2,
   "metadata": {
    "collapsed": false
   },
   "outputs": [
    {
     "data": {
      "text/plain": [
       "2.0"
      ]
     },
     "execution_count": 2,
     "metadata": {},
     "output_type": "execute_result"
    }
   ],
   "source": [
    "# We can also directly import just the sqrt method . This will save python to import the entire module\n",
    "from math import sqrt\n",
    "sqrt(4)"
   ]
  },
  {
   "cell_type": "code",
   "execution_count": 9,
   "metadata": {
    "collapsed": true
   },
   "outputs": [],
   "source": [
    "# All import statements come at the top of the code\n",
    "# We can using following statements to imstall any modeule we wish to \n",
    "#####    conda insatll *module_name*( stars not included)\n",
    "#####   pip install *module_nmae*(stars not included)\n",
    "# Flask--- web framework to create web applications using python \n",
    "# We can search on web how to insatll the particular module we wanted or we can also search on github(it host lot of packages)\n"
   ]
  },
  {
   "cell_type": "code",
   "execution_count": null,
   "metadata": {
    "collapsed": true
   },
   "outputs": [],
   "source": [
    "# How to create you own python modules\n",
    "# A module is a file containing Python definitions and statements. The file name is the module name with the suffix .py\n",
    "#create hello.py then write the following function:\n",
    "\n",
    "def helloworld():\n",
    "\n",
    "    print(\"hello\")\n",
    "\n",
    ">>> import hello\n",
    "\n",
    ">>> hello.helloworld()\n",
    "\n",
    "'hello'\n",
    "\n",
    ">>>\n",
    "\n",
    "#To group many .py files put them in a folder. \n",
    "#Any folder with an __init__.py is considered a module by python and you can call them a package\n",
    "\n",
    "#|-HelloModule\n",
    "\n",
    "#|_ __init__.py\n",
    "\n",
    "#|_ hellomodule.py\n",
    "\n",
    "#You can go about with the import statement on your module the usual way."
   ]
  }
 ],
 "metadata": {
  "kernelspec": {
   "display_name": "Python 3",
   "language": "python",
   "name": "python3"
  },
  "language_info": {
   "codemirror_mode": {
    "name": "ipython",
    "version": 3
   },
   "file_extension": ".py",
   "mimetype": "text/x-python",
   "name": "python",
   "nbconvert_exporter": "python",
   "pygments_lexer": "ipython3",
   "version": "3.6.0"
  }
 },
 "nbformat": 4,
 "nbformat_minor": 2
}

{
 "cells": [
  {
   "cell_type": "code",
   "execution_count": 81,
   "metadata": {
    "collapsed": false
   },
   "outputs": [
    {
     "data": {
      "text/plain": [
       "list"
      ]
     },
     "execution_count": 81,
     "metadata": {},
     "output_type": "execute_result"
    }
   ],
   "source": [
    "#In Python everything is an object\n",
    "#You can use type to know the type of the object\n",
    "l=[1,2,3]\n",
    "type(l)"
   ]
  },
  {
   "cell_type": "code",
   "execution_count": 82,
   "metadata": {
    "collapsed": false
   },
   "outputs": [
    {
     "data": {
      "text/plain": [
       "tuple"
      ]
     },
     "execution_count": 82,
     "metadata": {},
     "output_type": "execute_result"
    }
   ],
   "source": [
    "t=(1,2,3)\n",
    "type(t)"
   ]
  },
  {
   "cell_type": "code",
   "execution_count": 83,
   "metadata": {
    "collapsed": false
   },
   "outputs": [
    {
     "data": {
      "text/plain": [
       "int"
      ]
     },
     "execution_count": 83,
     "metadata": {},
     "output_type": "execute_result"
    }
   ],
   "source": [
    "type(1)"
   ]
  },
  {
   "cell_type": "code",
   "execution_count": 84,
   "metadata": {
    "collapsed": false
   },
   "outputs": [
    {
     "data": {
      "text/plain": [
       "str"
      ]
     },
     "execution_count": 84,
     "metadata": {},
     "output_type": "execute_result"
    }
   ],
   "source": [
    "type(\"Ankit Agrawal\")"
   ]
  },
  {
   "cell_type": "code",
   "execution_count": 85,
   "metadata": {
    "collapsed": false
   },
   "outputs": [
    {
     "data": {
      "text/plain": [
       "str"
      ]
     },
     "execution_count": 85,
     "metadata": {},
     "output_type": "execute_result"
    }
   ],
   "source": [
    "type('a')"
   ]
  },
  {
   "cell_type": "code",
   "execution_count": 86,
   "metadata": {
    "collapsed": false
   },
   "outputs": [
    {
     "data": {
      "text/plain": [
       "dict"
      ]
     },
     "execution_count": 86,
     "metadata": {},
     "output_type": "execute_result"
    }
   ],
   "source": [
    "d=({'k':1})\n",
    "type(d)"
   ]
  },
  {
   "cell_type": "code",
   "execution_count": 87,
   "metadata": {
    "collapsed": false
   },
   "outputs": [
    {
     "data": {
      "text/plain": [
       "function"
      ]
     },
     "execution_count": 87,
     "metadata": {},
     "output_type": "execute_result"
    }
   ],
   "source": [
    "#square is also an object of function type\n",
    "def square(num):\n",
    "    return num**2\n",
    "type(square)"
   ]
  },
  {
   "cell_type": "code",
   "execution_count": 88,
   "metadata": {
    "collapsed": false
   },
   "outputs": [
    {
     "data": {
      "text/plain": [
       "__main__.Sample"
      ]
     },
     "execution_count": 88,
     "metadata": {},
     "output_type": "execute_result"
    }
   ],
   "source": [
    "#How to use class keywod to create their own object\n",
    "#User defined objects are created using Class Keyword\n",
    "#class is a blueprint that defines the nature of future object\n",
    "#From classes we can construct instances\n",
    "#An instance is a specified object created from a particular class\n",
    "\n",
    "#Create a new object type called Sample\n",
    "class Sample(object):  #By convention class names are capitalized unlike function names that are small\n",
    "    pass\n",
    "\n",
    "x=Sample()\n",
    "type(x)"
   ]
  },
  {
   "cell_type": "code",
   "execution_count": 89,
   "metadata": {
    "collapsed": false
   },
   "outputs": [],
   "source": [
    "#We can define class attributes and methods\n",
    "#Attribute is a characteristic of an object ------ self.name_of_attribute = something\n",
    "#Method is an operation we can perform with the object ---- _init_(self)--- special method -- initialize attribute of a class\n",
    "#Every single method will have self as a parameter\n",
    "#function inside a class ---- you referred to them as method\n",
    "#-----Example----\n",
    "# class name ---- Dog\n",
    "# Attribute ----- breed or name\n",
    "# Method -------bark returns sound\n",
    "\n",
    "class Dog(object):\n",
    "    #class object attribute\n",
    "    species=\"mammals\"\n",
    "    #self is not used because if it used outside or befor _init_() method it will be treated as class object attribute\n",
    "    #menas no matter what kind of dog object we create its species will always be mammal\n",
    "    # default value of fur is set to TRUE so no need to pass during calling\n",
    "    #self--- due to scope python needs to know whether we are refrencing global variable or set this dog object attribute \n",
    "    #        self.breed=breed\n",
    "    def __init__(self,breed,name,fur=True): \n",
    "        self.breed = breed \n",
    "        self.name = name\n",
    "        self.fur = fur"
   ]
  },
  {
   "cell_type": "code",
   "execution_count": 90,
   "metadata": {
    "collapsed": false
   },
   "outputs": [
    {
     "data": {
      "text/plain": [
       "'mammals'"
      ]
     },
     "execution_count": 90,
     "metadata": {},
     "output_type": "execute_result"
    }
   ],
   "source": [
    "d=Dog(breed=\"lab\",name=\"Smmay\")\n",
    "d.species\n",
    "#d is an instance of dog type "
   ]
  },
  {
   "cell_type": "code",
   "execution_count": 91,
   "metadata": {
    "collapsed": false
   },
   "outputs": [
    {
     "name": "stdout",
     "output_type": "stream",
     "text": [
      "Smmay\n",
      "lab\n",
      "True\n"
     ]
    }
   ],
   "source": [
    "print(d.name)\n",
    "print(d.breed)\n",
    "print(d.fur)"
   ]
  },
  {
   "cell_type": "code",
   "execution_count": 92,
   "metadata": {
    "collapsed": false
   },
   "outputs": [
    {
     "data": {
      "text/plain": [
       "False"
      ]
     },
     "execution_count": 92,
     "metadata": {},
     "output_type": "execute_result"
    }
   ],
   "source": [
    "d=Dog(breed=\"lab\",name=\"Smmay\",fur=False)\n",
    "d.fur"
   ]
  },
  {
   "cell_type": "code",
   "execution_count": 93,
   "metadata": {
    "collapsed": false
   },
   "outputs": [],
   "source": [
    "#------ METHODS-------\n",
    "# They are functions inside the body of the class\n",
    "# They are used to perform operations with the attributes of our object\n",
    "# Used in the encapsulation concept(restrictiong direct access of some of the objects's attributes)of the OOP paradigm\n",
    "# Functions acting on an object that take the object itself into account through its self argument\n",
    "\n",
    "\n",
    "class Circle(object):\n",
    "    #class object attributes\n",
    "    pi = 3.14\n",
    "    def __init__(self,radius=1,p=1):\n",
    "        self.radius=radius\n",
    "    def area(self):\n",
    "        return (Circle.pi*self.radius**2)\n",
    "    def set_radius(self,new_radius):\n",
    "        \"\"\"\n",
    "        This methods takes a new radius as an input and sets the current radius of the circle\n",
    "        \"\"\"\n",
    "        self.radius = new_radius\n",
    "    def get_radius(self):\n",
    "        return self.radius\n",
    "    def perimeter(self):\n",
    "        return (2*Circle.pi*self.radius)\n"
   ]
  },
  {
   "cell_type": "code",
   "execution_count": 94,
   "metadata": {
    "collapsed": false
   },
   "outputs": [
    {
     "data": {
      "text/plain": [
       "3.14"
      ]
     },
     "execution_count": 94,
     "metadata": {},
     "output_type": "execute_result"
    }
   ],
   "source": [
    "c=Circle()\n",
    "c.radius\n",
    "c.area()"
   ]
  },
  {
   "cell_type": "code",
   "execution_count": 95,
   "metadata": {
    "collapsed": false
   },
   "outputs": [
    {
     "data": {
      "text/plain": [
       "1256.0"
      ]
     },
     "execution_count": 95,
     "metadata": {},
     "output_type": "execute_result"
    }
   ],
   "source": [
    "c=Circle(radius = 20)\n",
    "c.area()"
   ]
  },
  {
   "cell_type": "code",
   "execution_count": 96,
   "metadata": {
    "collapsed": false
   },
   "outputs": [
    {
     "data": {
      "text/plain": [
       "20"
      ]
     },
     "execution_count": 96,
     "metadata": {},
     "output_type": "execute_result"
    }
   ],
   "source": [
    "c.radius"
   ]
  },
  {
   "cell_type": "code",
   "execution_count": 97,
   "metadata": {
    "collapsed": false
   },
   "outputs": [
    {
     "data": {
      "text/plain": [
       "30"
      ]
     },
     "execution_count": 97,
     "metadata": {},
     "output_type": "execute_result"
    }
   ],
   "source": [
    "c.set_radius(30)\n",
    "c.radius\n",
    "#Here the new_radius will be 30"
   ]
  },
  {
   "cell_type": "code",
   "execution_count": 98,
   "metadata": {
    "collapsed": false
   },
   "outputs": [
    {
     "data": {
      "text/plain": [
       "30"
      ]
     },
     "execution_count": 98,
     "metadata": {},
     "output_type": "execute_result"
    }
   ],
   "source": [
    "c.get_radius()"
   ]
  },
  {
   "cell_type": "code",
   "execution_count": 99,
   "metadata": {
    "collapsed": false
   },
   "outputs": [
    {
     "data": {
      "text/plain": [
       "188.4"
      ]
     },
     "execution_count": 99,
     "metadata": {},
     "output_type": "execute_result"
    }
   ],
   "source": [
    "c.perimeter()"
   ]
  },
  {
   "cell_type": "code",
   "execution_count": 100,
   "metadata": {
    "collapsed": false
   },
   "outputs": [
    {
     "data": {
      "text/plain": [
       "30"
      ]
     },
     "execution_count": 100,
     "metadata": {},
     "output_type": "execute_result"
    }
   ],
   "source": [
    "c.radius"
   ]
  },
  {
   "cell_type": "code",
   "execution_count": 103,
   "metadata": {
    "collapsed": false
   },
   "outputs": [
    {
     "data": {
      "text/plain": [
       "125.60000000000001"
      ]
     },
     "execution_count": 103,
     "metadata": {},
     "output_type": "execute_result"
    }
   ],
   "source": [
    "c.p"
   ]
  },
  {
   "cell_type": "code",
   "execution_count": 125,
   "metadata": {
    "collapsed": false
   },
   "outputs": [
    {
     "name": "stdout",
     "output_type": "stream",
     "text": [
      "Animal Created\n",
      "DOG\n"
     ]
    }
   ],
   "source": [
    "#-----INHERITANCE------Way to define new classes using classes that are already defined\n",
    "# The newly formed classes ---- derived class\n",
    "#The classes that we derive from ---- base classes\n",
    "# Advantages --- code reuse and reduction of complexity of a program\n",
    "# The derived classes(descendants) override or extend the functionality of base class(ancestors)\n",
    "\n",
    "#BASE CLASS\n",
    "class Animal(object):\n",
    "    def __init__(self):\n",
    "        print(\"Animal Created\")\n",
    "    def whoamI(self):\n",
    "        print(\"Animal\")\n",
    "    def eat(self):\n",
    "        print(\"Eating\")\n",
    "        \n",
    "#Derived Class that inherits Animal\n",
    "class Dog(Animal):\n",
    "    def __init__(self):\n",
    "        Animal.__init__(self)\n",
    "        print(\"DOG\")\n",
    "    def whoamI(self):\n",
    "        print(\"Dog\")\n",
    "    def bark(self):\n",
    "        print(\"whoo!!!\")\n",
    "\n",
    "d=Dog()"
   ]
  },
  {
   "cell_type": "code",
   "execution_count": 122,
   "metadata": {
    "collapsed": false
   },
   "outputs": [
    {
     "name": "stdout",
     "output_type": "stream",
     "text": [
      "Dog\n"
     ]
    }
   ],
   "source": [
    "d.whoamI()"
   ]
  },
  {
   "cell_type": "code",
   "execution_count": 123,
   "metadata": {
    "collapsed": false
   },
   "outputs": [
    {
     "name": "stdout",
     "output_type": "stream",
     "text": [
      "Eating\n"
     ]
    }
   ],
   "source": [
    "d.eat()"
   ]
  },
  {
   "cell_type": "code",
   "execution_count": 124,
   "metadata": {
    "collapsed": false
   },
   "outputs": [
    {
     "name": "stdout",
     "output_type": "stream",
     "text": [
      "whoo!!!\n"
     ]
    }
   ],
   "source": [
    "d.bark()"
   ]
  },
  {
   "cell_type": "code",
   "execution_count": 133,
   "metadata": {
    "collapsed": false
   },
   "outputs": [
    {
     "name": "stdout",
     "output_type": "stream",
     "text": [
      "Book is gone\n",
      "Title:MATLAB,Author:Ankit Agrawal,No_of_Pages:100\n",
      "Book is gone\n"
     ]
    }
   ],
   "source": [
    "#----Special Methods-----\n",
    "#Classes in python can implement certain operations with special method names\n",
    "#These methode are not actually called directly but by python sepcific language syntac\n",
    "\n",
    "class Book(object):\n",
    "    def __init__(self,title,author,no_of_pages): #special method\n",
    "        self.title = title\n",
    "        self.author = author\n",
    "        self.no_of_pages =no_of_pages\n",
    "    def __str__(self):#Special method --- that is called when print is called\n",
    "        return \"Title:%s,Author:%s,No_of_Pages:%s\"%(self.title,self.author,self.no_of_pages)\n",
    "    def __len__(self):#Special method to display length\n",
    "        return (self.no_of_pages)\n",
    "    def __del__(self): # deletes object from memory\n",
    "        print(\"Book is gone\")\n",
    "b=Book(\"MATLAB\",\"Ankit Agrawal\",100)\n",
    "print(b)\n",
    "len(b)\n",
    "del(b)"
   ]
  },
  {
   "cell_type": "code",
   "execution_count": 135,
   "metadata": {
    "collapsed": false
   },
   "outputs": [
    {
     "ename": "NameError",
     "evalue": "name 'b' is not defined",
     "output_type": "error",
     "traceback": [
      "\u001b[0;31m---------------------------------------------------------------------------\u001b[0m",
      "\u001b[0;31mNameError\u001b[0m                                 Traceback (most recent call last)",
      "\u001b[0;32m<ipython-input-135-98aabe28e540>\u001b[0m in \u001b[0;36m<module>\u001b[0;34m()\u001b[0m\n\u001b[0;32m----> 1\u001b[0;31m \u001b[0mprint\u001b[0m\u001b[1;33m(\u001b[0m\u001b[0mb\u001b[0m\u001b[1;33m)\u001b[0m \u001b[1;31m#Here u can see there is no b as del(b) deleted it from memory\u001b[0m\u001b[1;33m\u001b[0m\u001b[0m\n\u001b[0m",
      "\u001b[0;31mNameError\u001b[0m: name 'b' is not defined"
     ]
    }
   ],
   "source": [
    "print(b) #Here u can see there is no b as del(b) deleted it from memory"
   ]
  },
  {
   "cell_type": "code",
   "execution_count": 148,
   "metadata": {
    "collapsed": false
   },
   "outputs": [
    {
     "name": "stdout",
     "output_type": "stream",
     "text": [
      "9.433981132056603\n",
      "1.6\n",
      "distance:9.433981,slope:1.600000\n"
     ]
    }
   ],
   "source": [
    "# Line class that accepts the coordinates as a tuples and return slope and distance \n",
    "class Line(object):\n",
    "    def __init__(self,co_ord1,co_ord2):\n",
    "        self.co_ord1=co_ord1\n",
    "        self.co_ord2=co_ord2  \n",
    "    def distance(self):\n",
    "        return (((self.co_ord2[0]-self.co_ord1[0])**2)+((self.co_ord2[1]-self.co_ord1[1])**2))**0.5\n",
    "    def slope(self):\n",
    "        return ((self.co_ord2[1]-self.co_ord1[1])/((self.co_ord2[0]-self.co_ord1[0])))\n",
    "    def __str__(self):\n",
    "        return (\"distance:%f,slope:%f\")%(self.distance(),self.slope())\n",
    "\n",
    "l=Line((3,2),(8,10))\n",
    "print(l.distance())\n",
    "print(l.slope())\n",
    "print(l)"
   ]
  },
  {
   "cell_type": "code",
   "execution_count": null,
   "metadata": {
    "collapsed": true
   },
   "outputs": [],
   "source": []
  }
 ],
 "metadata": {
  "kernelspec": {
   "display_name": "Python 3",
   "language": "python",
   "name": "python3"
  },
  "language_info": {
   "codemirror_mode": {
    "name": "ipython",
    "version": 3
   },
   "file_extension": ".py",
   "mimetype": "text/x-python",
   "name": "python",
   "nbconvert_exporter": "python",
   "pygments_lexer": "ipython3",
   "version": "3.6.0"
  }
 },
 "nbformat": 4,
 "nbformat_minor": 2
}
